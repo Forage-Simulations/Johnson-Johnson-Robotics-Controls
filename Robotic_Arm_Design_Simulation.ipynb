{
 "cells": [
  {
   "cell_type": "markdown",
   "id": "46c6bd91-d664-4a32-97d1-e2c989a227d0",
   "metadata": {},
   "source": [
    "# Enhanced Design Optimization Simulation\n",
    "This notebook simulates the impact of design modifications on a robotic arm's performance.\n",
    "You will:\n",
    "- Input efficiency and durability improvement factors.\n",
    "- Observe the changes in response time and durability metrics.\n",
    "- Visualize the results through a comparison chart.\n"
   ]
  },
  {
   "cell_type": "code",
   "execution_count": 3,
   "id": "21ed217b-23de-4e15-8ba5-cc4200d96f94",
   "metadata": {},
   "outputs": [],
   "source": [
    "import numpy as np\n",
    "import matplotlib.pyplot as plt\n"
   ]
  },
  {
   "cell_type": "code",
   "execution_count": 5,
   "id": "40964e38-8452-4668-895e-77e89b207766",
   "metadata": {},
   "outputs": [],
   "source": [
    "# Function to simulate response time improvements\n",
    "def simulate_response_time(base_time, efficiency_factor):\n",
    "    \"\"\"Calculate the new response time based on efficiency improvements.\"\"\"\n",
    "    return base_time * (1 - efficiency_factor)\n",
    "\n",
    "# Function to simulate durability improvements\n",
    "def simulate_durability(base_durability, reinforcement_factor):\n",
    "    \"\"\"Calculate the new durability score based on reinforcement.\"\"\"\n",
    "    return base_durability + (base_durability * reinforcement_factor)\n"
   ]
  },
  {
   "cell_type": "code",
   "execution_count": 7,
   "id": "d629d2e9-dcd5-499b-9eea-4f3f736f30c9",
   "metadata": {},
   "outputs": [],
   "source": [
    "# Example Base Metrics\n",
    "base_response_time = 0.20  # in seconds\n",
    "base_durability = 75       # durability score out of 100\n"
   ]
  },
  {
   "cell_type": "code",
   "execution_count": null,
   "id": "f53e26cc-a186-428b-9cc5-b2755e1bdf4d",
   "metadata": {},
   "outputs": [],
   "source": [
    "# User Inputs with Validation\n",
    "while True:\n",
    "    try:\n",
    "        efficiency_factor = float(input(\"Enter efficiency improvement factor (between 0 and 1, e.g., 0.15 for 15%): \"))\n",
    "        if 0 <= efficiency_factor <= 1:\n",
    "            break\n",
    "        else:\n",
    "            print(\"Please enter a value between 0 and 1.\")\n",
    "    except ValueError:\n",
    "        print(\"Invalid input. Please enter a numerical value.\")\n",
    "\n",
    "while True:\n",
    "    try:\n",
    "        reinforcement_factor = float(input(\"Enter durability reinforcement factor (between 0 and 1, e.g., 0.10 for 10%): \"))\n",
    "        if 0 <= reinforcement_factor <= 1:\n",
    "            break\n",
    "        else:\n",
    "            print(\"Please enter a value between 0 and 1.\")\n",
    "    except ValueError:\n",
    "        print(\"Invalid input. Please enter a numerical value.\")\n"
   ]
  },
  {
   "cell_type": "code",
   "execution_count": null,
   "id": "863c3b09-7c08-499c-b048-50506e05f67b",
   "metadata": {},
   "outputs": [],
   "source": [
    "# Simulations\n",
    "new_response_time = simulate_response_time(base_response_time, efficiency_factor)\n",
    "new_durability = simulate_durability(base_durability, reinforcement_factor)\n",
    "\n",
    "# Output Results\n",
    "print(\"\\nSimulation Results:\")\n",
    "print(f\"Original Response Time: {base_response_time} seconds\")\n",
    "print(f\"New Response Time: {round(new_response_time, 3)} seconds\")\n",
    "print(f\"Original Durability Score: {base_durability}\")\n",
    "print(f\"New Durability Score: {round(new_durability, 2)}\")\n"
   ]
  },
  {
   "cell_type": "code",
   "execution_count": null,
   "id": "c01c89cf-a3b3-4581-b9ea-0e2fd1c21a96",
   "metadata": {},
   "outputs": [],
   "source": [
    "# Visual Feedback\n",
    "metrics = [\"Response Time\", \"Durability\"]\n",
    "original_values = [base_response_time, base_durability]\n",
    "new_values = [new_response_time, new_durability]\n",
    "\n",
    "plt.figure(figsize=(8, 5))\n",
    "x = np.arange(len(metrics))\n",
    "width = 0.35\n",
    "\n",
    "plt.bar(x - width/2, original_values, width, label='Original', color='blue')\n",
    "plt.bar(x + width/2, new_values, width, label='New', color='green')\n",
    "\n",
    "plt.xlabel(\"Metrics\")\n",
    "plt.ylabel(\"Values\")\n",
    "plt.title(\"Simulation Results: Original vs New\")\n",
    "plt.xticks(x, metrics)\n",
    "plt.legend()\n",
    "plt.grid(axis='y', linestyle='--', alpha=0.7)\n",
    "plt.tight_layout()\n",
    "plt.show()\n"
   ]
  },
  {
   "cell_type": "code",
   "execution_count": null,
   "id": "e2625313-ed87-47a9-92f4-8ffcbe6226c0",
   "metadata": {},
   "outputs": [],
   "source": []
  }
 ],
 "metadata": {
  "kernelspec": {
   "display_name": "Python 3 (ipykernel)",
   "language": "python",
   "name": "python3"
  },
  "language_info": {
   "codemirror_mode": {
    "name": "ipython",
    "version": 3
   },
   "file_extension": ".py",
   "mimetype": "text/x-python",
   "name": "python",
   "nbconvert_exporter": "python",
   "pygments_lexer": "ipython3",
   "version": "3.12.7"
  }
 },
 "nbformat": 4,
 "nbformat_minor": 5
}
