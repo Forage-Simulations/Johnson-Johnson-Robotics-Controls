{
 "cells": [
  {
   "cell_type": "code",
   "execution_count": null,
   "id": "a53b3c0f-6a4e-43bc-979f-4f20799d57f7",
   "metadata": {},
   "outputs": [],
   "source": [
    "import numpy as np\n",
    "import matplotlib.pyplot as plt\n",
    "\n",
    "# Ensure the necessary libraries are installed.\n",
    "try:\n",
    "    import numpy\n",
    "    import matplotlib\n",
    "except ImportError as e:\n",
    "    print(f\"Missing library: {e}. Please install it using 'pip install numpy matplotlib'.\")"
   ]
  },
  {
   "cell_type": "code",
   "execution_count": null,
   "id": "653e5016-e96f-40bb-9770-6f8e3a106bb1",
   "metadata": {},
   "outputs": [],
   "source": [
    "# Function to simulate response time improvements\n",
    "def simulate_response_time(base_time, efficiency_factor):\n",
    "    \"\"\"Calculate the new response time based on efficiency improvements.\"\"\"\n",
    "    return base_time * (1 - efficiency_factor)\n",
    "\n",
    "# Function to simulate durability improvements\n",
    "def simulate_durability(base_durability, reinforcement_factor):\n",
    "    \"\"\"Calculate the new durability score based on reinforcement.\"\"\"\n",
    "    return base_durability + (base_durability * reinforcement_factor)"
   ]
  },
  {
   "cell_type": "code",
   "execution_count": null,
   "id": "d332672f-2629-4b27-9ee1-18ff66b830be",
   "metadata": {},
   "outputs": [],
   "source": [
    "# Example Base Metrics\n",
    "base_response_time = 0.20  # in seconds\n",
    "base_durability = 75       # durability score out of 100\n"
   ]
  },
  {
   "cell_type": "code",
   "execution_count": null,
   "id": "645c5a48-eff6-4920-8f0e-45ac3b447b6f",
   "metadata": {},
   "outputs": [],
   "source": [
    "# User Inputs with Validation\n",
    "while True:\n",
    "    try:\n",
    "        efficiency_factor = float(input(\"Enter efficiency improvement factor (between 0 and 1, e.g., 0.15 for 15%): \"))\n",
    "        if 0 <= efficiency_factor <= 1:\n",
    "            break\n",
    "        else:\n",
    "            print(\"Please enter a value between 0 and 1.\")\n",
    "    except ValueError:\n",
    "        print(\"Invalid input. Please enter a numerical value.\")\n",
    "\n",
    "while True:\n",
    "    try:\n",
    "        reinforcement_factor = float(input(\"Enter durability reinforcement factor (between 0 and 1, e.g., 0.10 for 10%): \"))\n",
    "        if 0 <= reinforcement_factor <= 1:\n",
    "            break\n",
    "        else:\n",
    "            print(\"Please enter a value between 0 and 1.\")\n",
    "    except ValueError:\n",
    "        print(\"Invalid input. Please enter a numerical value.\")\n"
   ]
  },
  {
   "cell_type": "code",
   "execution_count": null,
   "id": "ebe09a2e-5390-4973-b92b-eb9373a1ad50",
   "metadata": {},
   "outputs": [],
   "source": [
    "# Simulations\n",
    "new_response_time = simulate_response_time(base_response_time, efficiency_factor)\n",
    "new_durability = simulate_durability(base_durability, reinforcement_factor)\n",
    "\n",
    "# Output Results\n",
    "print(\"\\nSimulation Results:\")\n",
    "print(f\"Original Response Time: {base_response_time} seconds\")\n",
    "print(f\"New Response Time: {round(new_response_time, 3)} seconds\")\n",
    "print(f\"Original Durability Score: {base_durability}\")\n",
    "print(f\"New Durability Score: {round(new_durability, 2)}\")\n"
   ]
  },
  {
   "cell_type": "code",
   "execution_count": null,
   "id": "e9152d6b-a708-4255-a52c-a52de7b33a0b",
   "metadata": {},
   "outputs": [],
   "source": [
    "# Visual Feedback\n",
    "metrics = [\"Response Time (seconds)\", \"Durability Score\"]\n",
    "original_values = [base_response_time, base_durability]\n",
    "new_values = [new_response_time, new_durability]\n",
    "\n",
    "plt.figure(figsize=(8, 5))\n",
    "x = np.arange(len(metrics))\n",
    "width = 0.35\n",
    "\n",
    "plt.bar(x - width/2, original_values, width, label='Original', color='blue')\n",
    "plt.bar(x + width/2, new_values, width, label='New', color='green')\n",
    "\n",
    "plt.xlabel(\"Metrics\")\n",
    "plt.ylabel(\"Values\")\n",
    "plt.title(\"Simulation Results: Original vs New\")\n",
    "plt.xticks(x, metrics)\n",
    "plt.legend()\n",
    "plt.grid(axis='y', linestyle='--', alpha=0.7)\n",
    "plt.tight_layout()\n",
    "plt.show()\n"
   ]
  }
 ],
 "metadata": {
  "kernelspec": {
   "display_name": "Python 3 (ipykernel)",
   "language": "python",
   "name": "python3"
  },
  "language_info": {
   "codemirror_mode": {
    "name": "ipython",
    "version": 3
   },
   "file_extension": ".py",
   "mimetype": "text/x-python",
   "name": "python",
   "nbconvert_exporter": "python",
   "pygments_lexer": "ipython3",
   "version": "3.12.7"
  }
 },
 "nbformat": 4,
 "nbformat_minor": 5
}
