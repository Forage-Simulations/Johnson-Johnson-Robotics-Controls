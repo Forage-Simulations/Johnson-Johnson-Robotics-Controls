{
 "cells": [
  {
   "cell_type": "markdown",
   "id": "a24bd987-6c68-4f49-a598-da25cbd9173a",
   "metadata": {},
   "source": [
    "![Johnson & Johnson MedTech Logo](https://raw.githubusercontent.com/Forage-Simulations/Johnson-Johnson-Robotics-Controls/main/github_assets.png)\n"
   ]
  },
  {
   "cell_type": "markdown",
   "id": "6e29e663-e35c-4819-a2b8-5bb96372c948",
   "metadata": {},
   "source": [
    "# Robotic Arm Design Simulation\n",
    "\n",
    "### Objective\n",
    "This notebook helps simulate the impact of design modifications on a robotic arm’s performance. You will:\n",
    "\n",
    "- Test design modifications for improving response time and durability.\n",
    "- Input efficiency and reinforcement factors to assess their impact.\n",
    "- Visualize simulation results for response time and durability metrics.\n",
    "- Document findings to support your design proposal.\n",
    "\n",
    "### Instructions\n",
    "1. **Run Setup Cells**: Load libraries and define functions necessary for simulations.\n",
    "2. **Input Factors**: Enter efficiency and reinforcement factors to simulate improvements.\n",
    "3. **Analyze Results**: Compare original and improved metrics using the visual output.\n",
    "4. **Document Findings**: Record your observations to support your design proposal.\n",
    "\n",
    "Ensure you use the **Design Proposal Template** to document your findings.\n"
   ]
  },
  {
   "cell_type": "code",
   "execution_count": 3,
   "id": "9c992845-d219-411c-b6d2-62eae6716702",
   "metadata": {},
   "outputs": [],
   "source": [
    "# Import required libraries\n",
    "import numpy as np  # For numerical calculations\n",
    "import matplotlib.pyplot as plt  # For data visualization\n",
    "\n",
    "# Ensure the necessary libraries are installed\n",
    "try:\n",
    "    import numpy\n",
    "    import matplotlib\n",
    "except ImportError as e:\n",
    "    print(f\"Missing library: {e}. Please install it using 'pip install numpy matplotlib'.\")\n"
   ]
  },
  {
   "cell_type": "code",
   "execution_count": 5,
   "id": "09bd79ee-7727-4e34-8206-8a22436f6b88",
   "metadata": {},
   "outputs": [],
   "source": [
    "# Function to simulate response time improvements\n",
    "def simulate_response_time(base_time, efficiency_factor):\n",
    "    \"\"\"Calculate the new response time based on efficiency improvements.\"\"\"\n",
    "    return base_time * (1 - efficiency_factor)\n",
    "\n",
    "# Function to simulate durability improvements\n",
    "def simulate_durability(base_durability, reinforcement_factor):\n",
    "    \"\"\"Calculate the new durability score based on reinforcement.\"\"\"\n",
    "    return base_durability + (base_durability * reinforcement_factor)\n"
   ]
  },
  {
   "cell_type": "code",
   "execution_count": null,
   "id": "ef03372d-0b97-44f5-9890-500e09275aec",
   "metadata": {},
   "outputs": [],
   "source": [
    "# Example Base Metrics\n",
    "base_response_time = 0.20  # in seconds\n",
    "base_durability = 75       # durability score out of 100\n",
    "\n",
    "# User Inputs with Validation\n",
    "while True:\n",
    "    try:\n",
    "        efficiency_factor = float(input(\"Enter efficiency improvement factor (between 0 and 1, e.g., 0.15 for 15%): \"))\n",
    "        if 0 <= efficiency_factor <= 1:\n",
    "            break\n",
    "        else:\n",
    "            print(\"Please enter a value between 0 and 1.\")\n",
    "    except ValueError:\n",
    "        print(\"Invalid input. Please enter a numerical value.\")\n",
    "\n",
    "while True:\n",
    "    try:\n",
    "        reinforcement_factor = float(input(\"Enter durability reinforcement factor (between 0 and 1, e.g., 0.10 for 10%): \"))\n",
    "        if 0 <= reinforcement_factor <= 1:\n",
    "            break\n",
    "        else:\n",
    "            print(\"Please enter a value between 0 and 1.\")\n",
    "    except ValueError:\n",
    "        print(\"Invalid input. Please enter a numerical value.\")\n"
   ]
  },
  {
   "cell_type": "code",
   "execution_count": null,
   "id": "f4cdded1-fc9f-4e32-bd12-f18a61fe7d41",
   "metadata": {},
   "outputs": [],
   "source": [
    "# Simulations\n",
    "new_response_time = simulate_response_time(base_response_time, efficiency_factor)\n",
    "new_durability = simulate_durability(base_durability, reinforcement_factor)\n",
    "\n",
    "# Output Results\n",
    "print(\"\\nSimulation Results:\")\n",
    "print(f\"Original Response Time: {base_response_time} seconds\")\n",
    "print(f\"New Response Time: {round(new_response_time, 3)} seconds\")\n",
    "print(f\"Original Durability Score: {base_durability}\")\n",
    "print(f\"New Durability Score: {round(new_durability, 2)}\")\n"
   ]
  },
  {
   "cell_type": "code",
   "execution_count": null,
   "id": "2a7e16ac-01c6-49bb-a03d-143660b6ad0f",
   "metadata": {},
   "outputs": [],
   "source": [
    "# Visual Feedback\n",
    "metrics = [\"Response Time (seconds)\", \"Durability Score\"]\n",
    "original_values = [base_response_time, base_durability]\n",
    "new_values = [new_response_time, new_durability]\n",
    "\n",
    "plt.figure(figsize=(8, 5))\n",
    "x = np.arange(len(metrics))\n",
    "width = 0.35\n",
    "\n",
    "plt.bar(x - width/2, original_values, width, label='Original', color='blue')\n",
    "plt.bar(x + width/2, new_values, width, label='New', color='green')\n",
    "\n",
    "plt.xlabel(\"Metrics\")\n",
    "plt.ylabel(\"Values\")\n",
    "plt.title(\"Simulation Results: Original vs New\")\n",
    "plt.xticks(x, metrics)\n",
    "plt.legend()\n",
    "plt.grid(axis='y', linestyle='--', alpha=0.7)\n",
    "plt.tight_layout()\n",
    "plt.show()\n"
   ]
  },
  {
   "cell_type": "code",
   "execution_count": null,
   "id": "56dbdd3a-dbda-4343-a7b6-0c09cb240df4",
   "metadata": {},
   "outputs": [],
   "source": [
    "### Observations and Results\n",
    "\n",
    "Record your observations from the simulation below:\n",
    "\n",
    "#### Initial Metrics:\n",
    "- Response Time: 0.20 seconds\n",
    "- Durability Score: 75\n",
    "\n",
    "#### Improved Metrics:\n",
    "- Response Time: [Enter improved value]\n",
    "- Durability Score: [Enter improved value]\n",
    "\n",
    "#### Key Insights:\n",
    "1. How did the efficiency improvement factor impact response time?\n",
    "2. How did the reinforcement factor affect durability?\n",
    "3. Were there any trade-offs between responsiveness and durability?\n",
    "\n",
    "#### Conclusion:\n",
    "Summarize the impact of your design modifications and suggest next steps for further improvements.\n"
   ]
  }
 ],
 "metadata": {
  "kernelspec": {
   "display_name": "Python 3 (ipykernel)",
   "language": "python",
   "name": "python3"
  },
  "language_info": {
   "codemirror_mode": {
    "name": "ipython",
    "version": 3
   },
   "file_extension": ".py",
   "mimetype": "text/x-python",
   "name": "python",
   "nbconvert_exporter": "python",
   "pygments_lexer": "ipython3",
   "version": "3.12.7"
  }
 },
 "nbformat": 4,
 "nbformat_minor": 5
}
